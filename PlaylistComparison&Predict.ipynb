{
 "cells": [
  {
   "cell_type": "markdown",
   "metadata": {},
   "source": [
    "# What does this program do?\n",
    "\n",
    "This Jupyter Notebook takes two input playlists and does the following:\n",
    "    1. Identifies most dissimilar features between two playlists\n",
    "    2. Plots the tracks in each playlist respective to their top two dissimilar features\n",
    "    3. Use KNN Algorithm to predict which playlist a song may belong to\n",
    "    \n",
    "- all inputs for playlists and tracks ... enter without the prefix. So for example, enter: *\"5Sf3GyLEAzJXxZ5mbCPXTu\"*. DO NOT ENTER: *\"spotify:track:5Sf3GyLEAzJXxZ5mbCPXTu\"*"
   ]
  },
  {
   "cell_type": "markdown",
   "metadata": {},
   "source": [
    "# Step 1: Import Packages"
   ]
  },
  {
   "cell_type": "code",
   "execution_count": 1,
   "metadata": {},
   "outputs": [],
   "source": [
    "import sys\n",
    "import spotipy\n",
    "import spotipy.util as util\n",
    "import pandas as pd\n",
    "import numpy as np\n",
    "import matplotlib.pyplot as plt\n",
    "\n",
    "scope = 'user-library-read'\n",
    "token = util.prompt_for_user_token(\"mustafahoda\",scope,client_id='ID',client_secret='SECRET',redirect_uri='URL')\n",
    "spotify = spotipy.Spotify(auth = token)"
   ]
  },
  {
   "cell_type": "markdown",
   "metadata": {},
   "source": [
    "# Functions to use in Program"
   ]
  },
  {
   "cell_type": "markdown",
   "metadata": {},
   "source": [
    "## getPlaylistFeatures()\n",
    " returns an array with DataFrame of Tracks and Name of playlist in the following tuple\n",
    "- (playlistDF, playlistName)"
   ]
  },
  {
   "cell_type": "code",
   "execution_count": 2,
   "metadata": {},
   "outputs": [],
   "source": [
    "def getPlaylistFeatures(playlistURI, playlistNum):\n",
    "    \n",
    "    userPlaylistResponse = spotify.user_playlist(\"mustafahoda\", playlistURI)\n",
    "    playlistName = userPlaylistResponse[\"name\"]\n",
    "    \n",
    "    #tracks are returned in this JSON response\n",
    "    tracksResponse = spotify.user_playlist_tracks(\"mustafahoda\", playlistURI)\n",
    "    tracks = tracksResponse[\"items\"]\n",
    "    \n",
    "    #instantiate an empty array and place the Tracks URI in this array\n",
    "    tracksArray = [] \n",
    "    for track in tracks:\n",
    "        URI = track[\"track\"][\"id\"]\n",
    "        tracksArray.append(URI)\n",
    "    \n",
    "    dfArray = [] #empty array the DataFrame will intake\n",
    "    dfColumns = [\"trackURI\", \"danceability\", \"energy\", \"acousticness\", \"tempo\", \"valence\", \"loudness\", \"speechiness\", \"instrumentalness\", \"playlistNum\"] #columns that make DataFrame\n",
    "        \n",
    "    #code to iterate through each track URI and get its respective features\n",
    "    for trackURI in tracksArray:\n",
    "        trackFeatures = spotify.audio_features(trackURI)\n",
    "        \n",
    "        danceability = trackFeatures[0][\"danceability\"]\n",
    "        energy = trackFeatures[0][\"energy\"]\n",
    "        acousticness = trackFeatures[0][\"acousticness\"]\n",
    "        tempo = trackFeatures[0][\"tempo\"]\n",
    "        valence = trackFeatures[0][\"valence\"]\n",
    "        loudness = trackFeatures[0][\"loudness\"]\n",
    "        speechiness = trackFeatures[0][\"speechiness\"]\n",
    "        instrumentalness = trackFeatures[0][\"instrumentalness\"]\n",
    "        \n",
    "        tempArray = [trackURI, danceability, energy, acousticness, tempo, valence, loudness, speechiness, instrumentalness, playlistNum]\n",
    "        dfArray.append(tempArray)\n",
    "        \n",
    "    playlistDF = pd.DataFrame(dfArray, columns = dfColumns)\n",
    "    return (playlistDF, playlistName)\n"
   ]
  },
  {
   "cell_type": "markdown",
   "metadata": {},
   "source": [
    "# mostDissimilarFeatures(playlist1,playlist2)\n",
    "- returns a dataframe with the most dissimilar features in descending order\n",
    "- the dissimilarity is computed with Euclidean Distance between the means of each features respective to their playlist"
   ]
  },
  {
   "cell_type": "code",
   "execution_count": 3,
   "metadata": {},
   "outputs": [],
   "source": [
    "def mostDissimilarFeatures(playlist1DF, playlist2DF):\n",
    "#     playlist1 = getPlaylistFeatures(playlist1, 1)\n",
    "#     playlist2 = getPlaylistFeatures(playlist2, 2)\n",
    "    \n",
    "    playlist1Mean = pd.DataFrame(playlist1DF[[\"danceability\", \"energy\", \"acousticness\", \"valence\", \"instrumentalness\", \"speechiness\"]].mean(), columns = [\"playlist1\"])\n",
    "    playlist2Mean = pd.DataFrame(playlist2DF[[\"danceability\", \"energy\", \"acousticness\", \"valence\", \"instrumentalness\", \"speechiness\"]].mean(), columns = [\"playlist2\"])\n",
    "\n",
    "    mergedMeans = playlist1Mean.join(playlist2Mean)\n",
    "    \n",
    "    differenced = mergedMeans.assign(absoluteDifference = lambda x: np.absolute(mergedMeans[\"playlist1\"] - mergedMeans[\"playlist2\"]))\n",
    "    differenced = differenced.sort_values(\"absoluteDifference\", ascending = False)\n",
    "\n",
    "    display(differenced)\n",
    "\n",
    "    topDissimilar = differenced.index\n",
    "    \n",
    "    return topDissimilar"
   ]
  },
  {
   "cell_type": "markdown",
   "metadata": {},
   "source": [
    "# plotPlaylists(playlist1, playlist2)\n",
    "- plots the top two dissimilar features amongsts the two playlist to help us visualize how different or similar they are"
   ]
  },
  {
   "cell_type": "code",
   "execution_count": 4,
   "metadata": {},
   "outputs": [],
   "source": [
    "def plotPlaylists(playlist1, playlist2, feature1, feature2):\n",
    "#     feature1 = \"acousticness\"\n",
    "#     feature2 = \"instrumentalness\"\n",
    "\n",
    "    playlist1DF = playlist1[0]\n",
    "    playlist2DF = playlist2[0]\n",
    "    \n",
    "    playlist1Name = playlist1[1]\n",
    "    playlist2Name = playlist2[1]\n",
    "\n",
    "    plt.scatter(playlist1DF[feature1], playlist1DF[feature2], c = \"r\")\n",
    "    plt.scatter(playlist2DF[feature1], playlist2DF[feature2], c = \"g\")\n",
    "    plt.xlabel(feature1)\n",
    "    plt.ylabel(feature2)\n",
    "    plt.legend(labels = [playlist1Name, playlist2Name])\n",
    "    plt.show"
   ]
  },
  {
   "cell_type": "markdown",
   "metadata": {},
   "source": [
    "# KNNPredict(songURI, kNeighbors)\n",
    "- this function will take a user input a song and tell you which playlist the song best belongs to using K-Nearest Neighbors Algorithm that is built into SciKit Learn\n",
    "- Model is fitted from a dataFrame that contains the following:\n",
    "    - Input: [feature1, feature2]\n",
    "    - Output: Classification ... or which playlist those features belong to"
   ]
  },
  {
   "cell_type": "code",
   "execution_count": 5,
   "metadata": {},
   "outputs": [],
   "source": [
    "def KNNPredict(kNeighbors, playlist1, playlist2, feature1, feature2, songFeatures):\n",
    "\n",
    "    merge = [playlist1[0],playlist2[0]] \n",
    "    dfMerge = pd.concat(merge)\n",
    "\n",
    "    features = dfMerge[[feature1,feature2]]\n",
    "    classification = dfMerge['playlistNum']\n",
    "    \n",
    "    model = KNeighborsClassifier(n_neighbors=kNeighbors)\n",
    "    model.fit(features, classification)\n",
    "    \n",
    "#     return(model)\n",
    "    return(model.predict([songFeatures]))"
   ]
  },
  {
   "cell_type": "markdown",
   "metadata": {},
   "source": [
    "# getSongFeatures(songURI)\n",
    "- gets the features from the song to analyze and then eventually predict.\n",
    "- returns a DataFrame of song features"
   ]
  },
  {
   "cell_type": "code",
   "execution_count": 6,
   "metadata": {},
   "outputs": [],
   "source": [
    "def getSongFeature(songURI):\n",
    "    features = spotify.audio_features(songURI)\n",
    "    features = features[0]\n",
    "    \n",
    "    display(features)\n",
    "    \n",
    "    danceability = features[\"danceability\"]\n",
    "    energy = features[\"energy\"]\n",
    "    acousticness = features[\"acousticness\"]\n",
    "    tempo = features[\"tempo\"]\n",
    "    valence = features[\"valence\"]\n",
    "    loudness = features[\"loudness\"]\n",
    "    speechiness = features[\"speechiness\"]\n",
    "    instrumentalness = features[\"instrumentalness\"]\n",
    "    \n",
    "    dfArray = [danceability, energy, acousticness, tempo, valence, loudness, speechiness, instrumentalness] #empty array the DataFrame will intake\n",
    "    dfColumns = [\"danceability\", \"energy\", \"acousticness\", \"tempo\", \"valence\", \"loudness\", \"speechiness\", \"instrumentalness\"] #columns that make DataFrame\n",
    "    \n",
    "    trackFeatures = pd.DataFrame(dfArray, index = dfColumns)\n",
    "    trackFeatures = trackFeatures.transpose()\n",
    "    return(trackFeatures)"
   ]
  },
  {
   "cell_type": "markdown",
   "metadata": {},
   "source": [
    "# getSongName(songURI)"
   ]
  },
  {
   "cell_type": "code",
   "execution_count": 7,
   "metadata": {},
   "outputs": [],
   "source": [
    "def getSongName(songURI):\n",
    "    trackName = (spotify.track(songURI)[\"name\"])\n",
    "    return(trackName)"
   ]
  },
  {
   "cell_type": "markdown",
   "metadata": {},
   "source": [
    "# Step 2: Input Playlist to Analyze"
   ]
  },
  {
   "cell_type": "code",
   "execution_count": 8,
   "metadata": {},
   "outputs": [
    {
     "name": "stdout",
     "output_type": "stream",
     "text": [
      "What's the first playlist?37i9dQZF1DX0XUsuxWHRQd\n",
      "What's the second playlist?37i9dQZF1DWUNIrSzKgQbP\n"
     ]
    }
   ],
   "source": [
    "playlist1Input = input(\"What's the first playlist?\")\n",
    "playlist2Input = input(\"What's the second playlist?\")"
   ]
  },
  {
   "cell_type": "markdown",
   "metadata": {},
   "source": [
    "# Step 3: Retrieve Playlists Information\n",
    "- Call the function to retrieve the tracks from each playlists and their features\n",
    "- We also get the playlist's name"
   ]
  },
  {
   "cell_type": "code",
   "execution_count": 9,
   "metadata": {},
   "outputs": [],
   "source": [
    "playlist1 = getPlaylistFeatures(playlist1Input, 1)\n",
    "playlist2 = getPlaylistFeatures(playlist2Input, 2)\n",
    "\n",
    "#the variables above contain both a DataFrame and the name. We access them by parsing through the returned tuple\n",
    "playlist1DF = playlist1[0]\n",
    "playlist1Name = playlist1[1]\n",
    "\n",
    "playlist2DF = playlist2[0]\n",
    "playlist2Name = playlist2[1]"
   ]
  },
  {
   "cell_type": "code",
   "execution_count": 10,
   "metadata": {},
   "outputs": [
    {
     "data": {
      "text/plain": [
       "'RapCaviar'"
      ]
     },
     "metadata": {},
     "output_type": "display_data"
    },
    {
     "data": {
      "text/html": [
       "<div>\n",
       "<style scoped>\n",
       "    .dataframe tbody tr th:only-of-type {\n",
       "        vertical-align: middle;\n",
       "    }\n",
       "\n",
       "    .dataframe tbody tr th {\n",
       "        vertical-align: top;\n",
       "    }\n",
       "\n",
       "    .dataframe thead th {\n",
       "        text-align: right;\n",
       "    }\n",
       "</style>\n",
       "<table border=\"1\" class=\"dataframe\">\n",
       "  <thead>\n",
       "    <tr style=\"text-align: right;\">\n",
       "      <th></th>\n",
       "      <th>trackURI</th>\n",
       "      <th>danceability</th>\n",
       "      <th>energy</th>\n",
       "      <th>acousticness</th>\n",
       "      <th>tempo</th>\n",
       "      <th>valence</th>\n",
       "      <th>loudness</th>\n",
       "      <th>speechiness</th>\n",
       "      <th>instrumentalness</th>\n",
       "      <th>playlistNum</th>\n",
       "    </tr>\n",
       "  </thead>\n",
       "  <tbody>\n",
       "    <tr>\n",
       "      <th>0</th>\n",
       "      <td>7l3E7lcozEodtVsSTCkcaA</td>\n",
       "      <td>0.826</td>\n",
       "      <td>0.615</td>\n",
       "      <td>0.07100</td>\n",
       "      <td>98.056</td>\n",
       "      <td>0.543</td>\n",
       "      <td>-7.979</td>\n",
       "      <td>0.2190</td>\n",
       "      <td>0.00000</td>\n",
       "      <td>1</td>\n",
       "    </tr>\n",
       "    <tr>\n",
       "      <th>1</th>\n",
       "      <td>2xLMifQCjDGFmkHkpNLD9h</td>\n",
       "      <td>0.834</td>\n",
       "      <td>0.730</td>\n",
       "      <td>0.00513</td>\n",
       "      <td>155.008</td>\n",
       "      <td>0.446</td>\n",
       "      <td>-3.714</td>\n",
       "      <td>0.2220</td>\n",
       "      <td>0.00000</td>\n",
       "      <td>1</td>\n",
       "    </tr>\n",
       "    <tr>\n",
       "      <th>2</th>\n",
       "      <td>1BxkZE73h9BN3qwuA15TA3</td>\n",
       "      <td>0.900</td>\n",
       "      <td>0.653</td>\n",
       "      <td>0.09450</td>\n",
       "      <td>112.503</td>\n",
       "      <td>0.399</td>\n",
       "      <td>-6.962</td>\n",
       "      <td>0.2890</td>\n",
       "      <td>0.00000</td>\n",
       "      <td>1</td>\n",
       "    </tr>\n",
       "    <tr>\n",
       "      <th>3</th>\n",
       "      <td>3QybPutx0Tjk472bBKjNWn</td>\n",
       "      <td>0.738</td>\n",
       "      <td>0.629</td>\n",
       "      <td>0.26800</td>\n",
       "      <td>146.067</td>\n",
       "      <td>0.319</td>\n",
       "      <td>-4.882</td>\n",
       "      <td>0.0495</td>\n",
       "      <td>0.00114</td>\n",
       "      <td>1</td>\n",
       "    </tr>\n",
       "    <tr>\n",
       "      <th>4</th>\n",
       "      <td>5vDvBD3ReINP8dXUplj477</td>\n",
       "      <td>0.792</td>\n",
       "      <td>0.743</td>\n",
       "      <td>0.10700</td>\n",
       "      <td>150.024</td>\n",
       "      <td>0.742</td>\n",
       "      <td>-2.806</td>\n",
       "      <td>0.0851</td>\n",
       "      <td>0.00000</td>\n",
       "      <td>1</td>\n",
       "    </tr>\n",
       "  </tbody>\n",
       "</table>\n",
       "</div>"
      ],
      "text/plain": [
       "                 trackURI  danceability  energy  acousticness    tempo  \\\n",
       "0  7l3E7lcozEodtVsSTCkcaA         0.826   0.615       0.07100   98.056   \n",
       "1  2xLMifQCjDGFmkHkpNLD9h         0.834   0.730       0.00513  155.008   \n",
       "2  1BxkZE73h9BN3qwuA15TA3         0.900   0.653       0.09450  112.503   \n",
       "3  3QybPutx0Tjk472bBKjNWn         0.738   0.629       0.26800  146.067   \n",
       "4  5vDvBD3ReINP8dXUplj477         0.792   0.743       0.10700  150.024   \n",
       "\n",
       "   valence  loudness  speechiness  instrumentalness  playlistNum  \n",
       "0    0.543    -7.979       0.2190           0.00000            1  \n",
       "1    0.446    -3.714       0.2220           0.00000            1  \n",
       "2    0.399    -6.962       0.2890           0.00000            1  \n",
       "3    0.319    -4.882       0.0495           0.00114            1  \n",
       "4    0.742    -2.806       0.0851           0.00000            1  "
      ]
     },
     "metadata": {},
     "output_type": "display_data"
    },
    {
     "data": {
      "text/plain": [
       "'Autumn Acoustic'"
      ]
     },
     "metadata": {},
     "output_type": "display_data"
    },
    {
     "data": {
      "text/html": [
       "<div>\n",
       "<style scoped>\n",
       "    .dataframe tbody tr th:only-of-type {\n",
       "        vertical-align: middle;\n",
       "    }\n",
       "\n",
       "    .dataframe tbody tr th {\n",
       "        vertical-align: top;\n",
       "    }\n",
       "\n",
       "    .dataframe thead th {\n",
       "        text-align: right;\n",
       "    }\n",
       "</style>\n",
       "<table border=\"1\" class=\"dataframe\">\n",
       "  <thead>\n",
       "    <tr style=\"text-align: right;\">\n",
       "      <th></th>\n",
       "      <th>trackURI</th>\n",
       "      <th>danceability</th>\n",
       "      <th>energy</th>\n",
       "      <th>acousticness</th>\n",
       "      <th>tempo</th>\n",
       "      <th>valence</th>\n",
       "      <th>loudness</th>\n",
       "      <th>speechiness</th>\n",
       "      <th>instrumentalness</th>\n",
       "      <th>playlistNum</th>\n",
       "    </tr>\n",
       "  </thead>\n",
       "  <tbody>\n",
       "    <tr>\n",
       "      <th>0</th>\n",
       "      <td>7xbF5Nf1iKYmwvD9EWhJav</td>\n",
       "      <td>0.343</td>\n",
       "      <td>0.539</td>\n",
       "      <td>0.789</td>\n",
       "      <td>142.065</td>\n",
       "      <td>0.228</td>\n",
       "      <td>-9.720</td>\n",
       "      <td>0.0297</td>\n",
       "      <td>0.15700</td>\n",
       "      <td>2</td>\n",
       "    </tr>\n",
       "    <tr>\n",
       "      <th>1</th>\n",
       "      <td>62EuvgIqhc9o5DPqKse952</td>\n",
       "      <td>0.667</td>\n",
       "      <td>0.318</td>\n",
       "      <td>0.849</td>\n",
       "      <td>147.851</td>\n",
       "      <td>0.450</td>\n",
       "      <td>-12.666</td>\n",
       "      <td>0.0375</td>\n",
       "      <td>0.00813</td>\n",
       "      <td>2</td>\n",
       "    </tr>\n",
       "    <tr>\n",
       "      <th>2</th>\n",
       "      <td>5WwOBQWE4nhpLHFUvdaEq0</td>\n",
       "      <td>0.735</td>\n",
       "      <td>0.610</td>\n",
       "      <td>0.825</td>\n",
       "      <td>85.954</td>\n",
       "      <td>0.661</td>\n",
       "      <td>-8.296</td>\n",
       "      <td>0.0444</td>\n",
       "      <td>0.20300</td>\n",
       "      <td>2</td>\n",
       "    </tr>\n",
       "    <tr>\n",
       "      <th>3</th>\n",
       "      <td>20rtR9O2T7huACSvZz3pqd</td>\n",
       "      <td>0.526</td>\n",
       "      <td>0.508</td>\n",
       "      <td>0.859</td>\n",
       "      <td>112.012</td>\n",
       "      <td>0.430</td>\n",
       "      <td>-8.643</td>\n",
       "      <td>0.0290</td>\n",
       "      <td>0.07290</td>\n",
       "      <td>2</td>\n",
       "    </tr>\n",
       "    <tr>\n",
       "      <th>4</th>\n",
       "      <td>0px8acghPxrLMXXGaS6Mwe</td>\n",
       "      <td>0.653</td>\n",
       "      <td>0.445</td>\n",
       "      <td>0.889</td>\n",
       "      <td>98.044</td>\n",
       "      <td>0.563</td>\n",
       "      <td>-13.843</td>\n",
       "      <td>0.0353</td>\n",
       "      <td>0.31700</td>\n",
       "      <td>2</td>\n",
       "    </tr>\n",
       "  </tbody>\n",
       "</table>\n",
       "</div>"
      ],
      "text/plain": [
       "                 trackURI  danceability  energy  acousticness    tempo  \\\n",
       "0  7xbF5Nf1iKYmwvD9EWhJav         0.343   0.539         0.789  142.065   \n",
       "1  62EuvgIqhc9o5DPqKse952         0.667   0.318         0.849  147.851   \n",
       "2  5WwOBQWE4nhpLHFUvdaEq0         0.735   0.610         0.825   85.954   \n",
       "3  20rtR9O2T7huACSvZz3pqd         0.526   0.508         0.859  112.012   \n",
       "4  0px8acghPxrLMXXGaS6Mwe         0.653   0.445         0.889   98.044   \n",
       "\n",
       "   valence  loudness  speechiness  instrumentalness  playlistNum  \n",
       "0    0.228    -9.720       0.0297           0.15700            2  \n",
       "1    0.450   -12.666       0.0375           0.00813            2  \n",
       "2    0.661    -8.296       0.0444           0.20300            2  \n",
       "3    0.430    -8.643       0.0290           0.07290            2  \n",
       "4    0.563   -13.843       0.0353           0.31700            2  "
      ]
     },
     "metadata": {},
     "output_type": "display_data"
    }
   ],
   "source": [
    "display(playlist1Name)\n",
    "display(playlist1DF.head())\n",
    "\n",
    "display(playlist2Name)\n",
    "display(playlist2DF.head())"
   ]
  },
  {
   "cell_type": "markdown",
   "metadata": {},
   "source": [
    "# Step 3: Identify Most Dissimilar Features"
   ]
  },
  {
   "cell_type": "code",
   "execution_count": 11,
   "metadata": {},
   "outputs": [
    {
     "data": {
      "text/html": [
       "<div>\n",
       "<style scoped>\n",
       "    .dataframe tbody tr th:only-of-type {\n",
       "        vertical-align: middle;\n",
       "    }\n",
       "\n",
       "    .dataframe tbody tr th {\n",
       "        vertical-align: top;\n",
       "    }\n",
       "\n",
       "    .dataframe thead th {\n",
       "        text-align: right;\n",
       "    }\n",
       "</style>\n",
       "<table border=\"1\" class=\"dataframe\">\n",
       "  <thead>\n",
       "    <tr style=\"text-align: right;\">\n",
       "      <th></th>\n",
       "      <th>playlist1</th>\n",
       "      <th>playlist2</th>\n",
       "      <th>absoluteDifference</th>\n",
       "    </tr>\n",
       "  </thead>\n",
       "  <tbody>\n",
       "    <tr>\n",
       "      <th>acousticness</th>\n",
       "      <td>0.149217</td>\n",
       "      <td>0.740067</td>\n",
       "      <td>0.590850</td>\n",
       "    </tr>\n",
       "    <tr>\n",
       "      <th>danceability</th>\n",
       "      <td>0.788902</td>\n",
       "      <td>0.534511</td>\n",
       "      <td>0.254391</td>\n",
       "    </tr>\n",
       "    <tr>\n",
       "      <th>energy</th>\n",
       "      <td>0.626686</td>\n",
       "      <td>0.376680</td>\n",
       "      <td>0.250006</td>\n",
       "    </tr>\n",
       "    <tr>\n",
       "      <th>speechiness</th>\n",
       "      <td>0.221704</td>\n",
       "      <td>0.034067</td>\n",
       "      <td>0.187637</td>\n",
       "    </tr>\n",
       "    <tr>\n",
       "      <th>instrumentalness</th>\n",
       "      <td>0.000250</td>\n",
       "      <td>0.100191</td>\n",
       "      <td>0.099941</td>\n",
       "    </tr>\n",
       "    <tr>\n",
       "      <th>valence</th>\n",
       "      <td>0.451806</td>\n",
       "      <td>0.368178</td>\n",
       "      <td>0.083628</td>\n",
       "    </tr>\n",
       "  </tbody>\n",
       "</table>\n",
       "</div>"
      ],
      "text/plain": [
       "                  playlist1  playlist2  absoluteDifference\n",
       "acousticness       0.149217   0.740067            0.590850\n",
       "danceability       0.788902   0.534511            0.254391\n",
       "energy             0.626686   0.376680            0.250006\n",
       "speechiness        0.221704   0.034067            0.187637\n",
       "instrumentalness   0.000250   0.100191            0.099941\n",
       "valence            0.451806   0.368178            0.083628"
      ]
     },
     "metadata": {},
     "output_type": "display_data"
    }
   ],
   "source": [
    "# we input the DataFrames for each playlist into the function\n",
    "mostDissimilar = mostDissimilarFeatures(playlist1DF, playlist2DF)\n",
    "\n",
    "# we only want the top 2 dissimilar features\n",
    "top2Dissimilar = mostDissimilar.values.tolist() #conver to list to access\n",
    "feature1 = top2Dissimilar[0]\n",
    "feature2 = top2Dissimilar[1]"
   ]
  },
  {
   "cell_type": "markdown",
   "metadata": {},
   "source": [
    "# Step 4: Plot Dissimilar Features"
   ]
  },
  {
   "cell_type": "code",
   "execution_count": 12,
   "metadata": {},
   "outputs": [],
   "source": [
    "# feature1 = input(\"Feature #1 to analyze: \")\n",
    "# feature2 = input(\"Feature #2 to analyze: \")"
   ]
  },
  {
   "cell_type": "code",
   "execution_count": 13,
   "metadata": {},
   "outputs": [
    {
     "data": {
      "image/png": "[encoded data removed]",
      "text/plain": [
       "<Figure size 432x288 with 1 Axes>"
      ]
     },
     "metadata": {
      "needs_background": "light"
     },
     "output_type": "display_data"
    }
   ],
   "source": [
    "plotPlaylists(playlist1, playlist2, feature1, feature2)"
   ]
  },
  {
   "cell_type": "markdown",
   "metadata": {},
   "source": [
    "# Step 5: Get Song Features\n",
    "- get the features of the song that we want to see where it belongs"
   ]
  },
  {
   "cell_type": "code",
   "execution_count": 15,
   "metadata": {
    "scrolled": true
   },
   "outputs": [
    {
     "name": "stdout",
     "output_type": "stream",
     "text": [
      "Enter the URI for the song you'd like to predict: 5Sf3GyLEAzJXxZ5mbCPXTu\n"
     ]
    },
    {
     "data": {
      "text/plain": [
       "{'danceability': 0.829,\n",
       " 'energy': 0.51,\n",
       " 'key': 5,\n",
       " 'loudness': -9.334,\n",
       " 'mode': 0,\n",
       " 'speechiness': 0.0369,\n",
       " 'acousticness': 0.00821,\n",
       " 'instrumentalness': 0.0014,\n",
       " 'liveness': 0.0829,\n",
       " 'valence': 0.45,\n",
       " 'tempo': 119.993,\n",
       " 'type': 'audio_features',\n",
       " 'id': '5Sf3GyLEAzJXxZ5mbCPXTu',\n",
       " 'uri': 'spotify:track:5Sf3GyLEAzJXxZ5mbCPXTu',\n",
       " 'track_href': 'https://api.spotify.com/v1/tracks/5Sf3GyLEAzJXxZ5mbCPXTu',\n",
       " 'analysis_url': 'https://api.spotify.com/v1/audio-analysis/5Sf3GyLEAzJXxZ5mbCPXTu',\n",
       " 'duration_ms': 208133,\n",
       " 'time_signature': 4}"
      ]
     },
     "metadata": {},
     "output_type": "display_data"
    },
    {
     "name": "stdout",
     "output_type": "stream",
     "text": [
      "[0.00821, 0.829]\n"
     ]
    }
   ],
   "source": [
    "from sklearn.neighbors import KNeighborsClassifier\n",
    "song = input(\"Enter the URI for the song you'd like to predict: \")\n",
    "\n",
    "trackFeatures = getSongFeature(song)\n",
    "trackName = getSongName(song)\n",
    "trackFeature1 = trackFeatures.loc[0, feature1]\n",
    "trackFeature2 = trackFeatures.loc[0, feature2]\n",
    "#this array contains the values of our top two dissimilar features\n",
    "trackFeatureValues = [trackFeature1, trackFeature2] \n",
    "\n",
    "print(trackFeatureValues)"
   ]
  },
  {
   "cell_type": "markdown",
   "metadata": {},
   "source": [
    "# Step 6: Make the actual prediction using KNN\n",
    "- make the prediction using K-Nearest Neighbors Algorithm and store that model into a variable *myModel*\n",
    "- then proceed to output the prediciton"
   ]
  },
  {
   "cell_type": "code",
   "execution_count": 16,
   "metadata": {},
   "outputs": [],
   "source": [
    "myModel = KNNPredict(5, playlist1, playlist2, feature1, feature2, trackFeatureValues)"
   ]
  },
  {
   "cell_type": "code",
   "execution_count": 17,
   "metadata": {},
   "outputs": [
    {
     "name": "stdout",
     "output_type": "stream",
     "text": [
      "Using the KNN Algorithm, 'Waves - Robin Schulz Radio Edit' best belongs in 'RapCaviar' playlist\n"
     ]
    }
   ],
   "source": [
    "if(myModel[0] == 1 ):\n",
    "    print(\"Using the KNN Algorithm, '\" + trackName + \"' best belongs in '\" + playlist1Name + \"' playlist\")\n",
    "else:\n",
    "    print(\"Using the KNN Algorithm, '\" + trackName + \"' best belongs in '\" + playlist2Name + \"' playlist\")"
   ]
  },
  {
   "cell_type": "markdown",
   "metadata": {},
   "source": [
    "## Why did Wave's not place under acoustic?\n",
    "Let's plot its Features and see why!"
   ]
  },
  {
   "cell_type": "code",
   "execution_count": 34,
   "metadata": {},
   "outputs": [
    {
     "data": {
      "text/plain": [
       "<matplotlib.legend.Legend at 0x1a25715668>"
      ]
     },
     "execution_count": 34,
     "metadata": {},
     "output_type": "execute_result"
    },
    {
     "data": {
      "image/png": "[encoded data removed]",
      "text/plain": [
       "<Figure size 432x288 with 1 Axes>"
      ]
     },
     "metadata": {
      "needs_background": "light"
     },
     "output_type": "display_data"
    }
   ],
   "source": [
    "myPlot = plotPlaylists(playlist1, playlist2, feature1, feature2)\n",
    "trackFeatureValues\n",
    "plt.scatter(trackFeatureValues[0], trackFeatureValues[1], c = \"b\")\n",
    "plt.legend([playlist1Name, playlist2Name,\"Waves\"])"
   ]
  }
 ],
 "metadata": {
  "kernelspec": {
   "display_name": "Python 3",
   "language": "python",
   "name": "python3"
  },
  "language_info": {
   "codemirror_mode": {
    "name": "ipython",
    "version": 3
   },
   "file_extension": ".py",
   "mimetype": "text/x-python",
   "name": "python",
   "nbconvert_exporter": "python",
   "pygments_lexer": "ipython3",
   "version": "3.7.0"
  }
 },
 "nbformat": 4,
 "nbformat_minor": 2
}
